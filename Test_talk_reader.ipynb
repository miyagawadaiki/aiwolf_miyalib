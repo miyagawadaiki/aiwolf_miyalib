{
 "cells": [
  {
   "cell_type": "markdown",
   "metadata": {},
   "source": [
    "# talk_reader.pyのテスト"
   ]
  },
  {
   "cell_type": "code",
   "execution_count": 93,
   "metadata": {},
   "outputs": [
    {
     "data": {
      "text/plain": [
       "<module 'talk_reader' from '/Users/daiki/aiwolf/miyalib/talk_reader.py'>"
      ]
     },
     "execution_count": 93,
     "metadata": {},
     "output_type": "execute_result"
    }
   ],
   "source": [
    "import talk_reader as tr\n",
    "\n",
    "import importlib\n",
    "importlib.reload(tr)"
   ]
  },
  {
   "cell_type": "markdown",
   "metadata": {},
   "source": [
    "## make_section_from_textを使う（Sectionオブジェクトの生成）"
   ]
  },
  {
   "cell_type": "code",
   "execution_count": 96,
   "metadata": {
    "scrolled": true
   },
   "outputs": [
    {
     "name": "stdout",
     "output_type": "stream",
     "text": [
      "Sectionの文字列化 : Agent[01] VOTE agent[02] () at Day[02] on Turn[01]\n",
      "\n",
      "Sectionクラスの主要なフィールド :\n",
      "\n",
      "\t主語 : Agent[01]\n",
      "\t目的語 : Agent[02]\n",
      "\t演算子or動詞 : VOTE\n",
      "\t発言した日 : 2\n",
      "\t発言したターン数 : 1\n",
      "\t動作が発生した日 : 2\n"
     ]
    }
   ],
   "source": [
    "# 文字列の用意\n",
    "text = 'Agent[01] VOTE Agent[02]'\n",
    "\n",
    "# Sectionを作成\n",
    "sec = tr.make_section_from_text(2,1,1,text)\n",
    "\n",
    "# Section内容の表示\n",
    "print(\"Sectionの文字列化 :\", sec.get_sec_str())\n",
    "\n",
    "print()\n",
    "\n",
    "# Sectionからそれぞれパラメータを取り出す\n",
    "print(\"Sectionクラスの主要なフィールド :\\n\")\n",
    "print(\"\\t主語 : Agent[{:02d}]\".format(sec.sub_id)) # 主語（やった人）のIDを取得\n",
    "print(\"\\t目的語 : Agent[{:02d}]\".format(sec.tar_id)) # 目的語（された人）のIDを取得\n",
    "print(\"\\t演算子or動詞 : {0}\".format(sec.op)) # 演算子（or 動詞）を取得\n",
    "print(\"\\t発言した日 : {0}\\n\\t発言したターン数 : {1}\\n\\t動作が発生した日 : {2}\".format(sec.pub_day, sec.pub_turn, sec.occ_day))"
   ]
  },
  {
   "cell_type": "markdown",
   "metadata": {},
   "source": [
    "## 応用的な使い方"
   ]
  },
  {
   "cell_type": "markdown",
   "metadata": {},
   "source": [
    "### Sectionから, 特定の演算子を持つ子Sectionを取得"
   ]
  },
  {
   "cell_type": "code",
   "execution_count": 99,
   "metadata": {
    "scrolled": true
   },
   "outputs": [
    {
     "name": "stdout",
     "output_type": "stream",
     "text": [
      "元のSection :\n",
      "Agent[01] BECAUSE agent[00] () at Day[02] on Turn[01]\n",
      "    Agent[01] DIVINED agent[03] (WEREWOLF) at Day[02] on Turn[01]\n",
      "    Agent[01] VOTE agent[03] () at Day[02] on Turn[01]\n",
      "\n",
      "VOTE文 : \n",
      "Agent[01] VOTE agent[03] () at Day[02] on Turn[01]\n"
     ]
    }
   ],
   "source": [
    "text = 'BECAUSE (Agent[01] DIVINED Agent[03] WEREWOLF) (VOTE Agent[03])'\n",
    "#text = 'Agent[05] AGREE TALK day1 ID:31'\n",
    "#text = 'DAY 1 (DIVINED Agent[02] WEREWOLF)'\n",
    "\n",
    "# Sectionを作成\n",
    "sec = tr.make_section_from_text(2,1,1,text)\n",
    "\n",
    "# 元のSection構造を表示\n",
    "print(\"元のSection :\\n{0}\\n\".format(sec.get_sec_str()))\n",
    "\n",
    "# 含まれるVOTE文を全て取得\n",
    "vote_list = sec.get_sec_all(op='VOTE')\n",
    "\n",
    "# 取得したVOTE文を出力\n",
    "print(\"VOTE文 : \")\n",
    "for s in vote_list:\n",
    "    print(s.get_sec_str())"
   ]
  },
  {
   "cell_type": "markdown",
   "metadata": {},
   "source": [
    "### REQUEST文を親に持たないVOTE文のみ取得"
   ]
  },
  {
   "cell_type": "code",
   "execution_count": 102,
   "metadata": {
    "scrolled": true
   },
   "outputs": [
    {
     "name": "stdout",
     "output_type": "stream",
     "text": [
      "元のSection :\n",
      "Agent[01] BECAUSE agent[00] () at Day[02] on Turn[01]\n",
      "    Agent[02] VOTED agent[01] () at Day[02] on Turn[01]\n",
      "    Agent[01] AND agent[00] () at Day[02] on Turn[01]\n",
      "        Agent[01] VOTE agent[02] () at Day[02] on Turn[01]\n",
      "        Agent[01] REQUEST agent[-1] () at Day[02] on Turn[01]\n",
      "            Agent[-1] VOTE agent[02] () at Day[02] on Turn[01]\n",
      "\n",
      "全てのVOTE文 : \n",
      "Agent[01] VOTE agent[02] () at Day[02] on Turn[01]\n",
      "Agent[-1] VOTE agent[02] () at Day[02] on Turn[01]\n",
      "\n",
      "REQUEST直下を除いたVOTE文 : \n",
      "Agent[01] VOTE agent[02] () at Day[02] on Turn[01]\n"
     ]
    }
   ],
   "source": [
    "#text = 'BECAUSE (XOR (ESTIMATE Agent[03] WEREWOLF) (ESTIMATE Agent[03] POSSESSED)) (AND (VOTE Agent[03]) (REQUEST ANY (ANY VOTE Agent[03])))'\n",
    "text = 'BECAUSE (Agent[02] VOTED Agent[01]) (AND (Agent[01] VOTE Agent[02]) (REQUEST ANY (VOTE Agent[02])))'\n",
    "\n",
    "# Sectionを作成\n",
    "sec = tr.make_section_from_text(2,1,1,text)\n",
    "\n",
    "# 元のSection構造を表示\n",
    "print(\"元のSection :\\n{0}\\n\".format(sec.get_sec_str()))\n",
    "\n",
    "\n",
    "# 含まれるVOTE文を全て取得\n",
    "vote_list = sec.get_sec_all(op='VOTE')\n",
    "\n",
    "# 取得したVOTE文を出力\n",
    "print(\"全てのVOTE文 : \")\n",
    "for s in vote_list:\n",
    "    print(s.get_sec_str())\n",
    "\n",
    "print()\n",
    "    \n",
    "# 含まれるVOTE文を取得, ただしREQUEST文の子Sectionになっているものは除去する\n",
    "vote_list = [s for s in sec.get_sec_all(op='VOTE') if s.get_parent(op='REQUEST') == None]\n",
    "\n",
    "# 取得したVOTE文を出力\n",
    "print(\"REQUEST直下を除いたVOTE文 : \")\n",
    "for s in vote_list:\n",
    "    print(s.get_sec_str())"
   ]
  },
  {
   "cell_type": "markdown",
   "metadata": {},
   "source": [
    "### BECAUSE文の第1節に連なるSectionかどうかを判定する"
   ]
  },
  {
   "cell_type": "code",
   "execution_count": 95,
   "metadata": {},
   "outputs": [
    {
     "name": "stdout",
     "output_type": "stream",
     "text": [
      "元のSection :\n",
      "Agent[01] BECAUSE agent[00] () at Day[02] on Turn[01]\n",
      "    Agent[03] DIVINED agent[02] (WEREWOLF) at Day[02] on Turn[01]\n",
      "    Agent[01] AND agent[00] () at Day[02] on Turn[01]\n",
      "        Agent[01] VOTE agent[02] () at Day[02] on Turn[01]\n",
      "        Agent[01] REQUEST agent[-1] () at Day[02] on Turn[01]\n",
      "            Agent[-1] VOTE agent[02] () at Day[02] on Turn[01]\n",
      "\n",
      "このDIVINED文は既出情報\n"
     ]
    }
   ],
   "source": [
    "text = 'BECAUSE (Agent[03] DIVINED Agent[02] WEREWOLF) (AND (Agent[01] VOTE Agent[02]) (REQUEST ANY (VOTE Agent[02])))'\n",
    "\n",
    "# Sectionを作成\n",
    "sec = tr.make_section_from_text(2,1,1,text)\n",
    "\n",
    "# 元のSection構造を表示\n",
    "print(\"元のSection :\\n{0}\\n\".format(sec.get_sec_str()))\n",
    "\n",
    "# 含まれるVOTE文を取得, ただしREQUEST文の子Sectionになっているものは除去する\n",
    "divined = sec.get_sec_all(op='DIVINED')\n",
    "\n",
    "# 取得したDIVINED文が新規情報か既出情報かを判定する; BECAUSEの第1節は既出情報のはずである\n",
    "if divined[0].get_arg_num(op='BECAUSE') == 0:\n",
    "    print(\"このDIVINED文は既出情報\")\n",
    "else :\n",
    "    print(\"このDIVINED文は新規情報\")"
   ]
  }
 ],
 "metadata": {
  "kernelspec": {
   "display_name": "Python 3",
   "language": "python",
   "name": "python3"
  },
  "language_info": {
   "codemirror_mode": {
    "name": "ipython",
    "version": 3
   },
   "file_extension": ".py",
   "mimetype": "text/x-python",
   "name": "python",
   "nbconvert_exporter": "python",
   "pygments_lexer": "ipython3",
   "version": "3.6.0"
  }
 },
 "nbformat": 4,
 "nbformat_minor": 2
}
