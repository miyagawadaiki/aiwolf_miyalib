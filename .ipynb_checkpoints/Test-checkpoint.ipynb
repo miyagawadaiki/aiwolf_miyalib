{
 "cells": [
  {
   "cell_type": "code",
   "execution_count": 1,
   "metadata": {
    "scrolled": false
   },
   "outputs": [
    {
     "name": "stdout",
     "output_type": "stream",
     "text": [
      "['XOR (ESTIMATE Agent[03] WEREWOLF) (ESTIMATE Agent[03] POSSESSED)', 'AND (VOTE Agent[03]) (REQUEST ANY (VOTE Agent[03]))']\n"
     ]
    }
   ],
   "source": [
    "import talk_reader as tr\n",
    "\n",
    "import importlib\n",
    "importlib.reload(tr)\n",
    "\n",
    "# カッコが外せるかどうか実験\n",
    "s = 'BECAUSE (XOR (ESTIMATE Agent[03] WEREWOLF) (ESTIMATE Agent[03] POSSESSED)) (AND (VOTE Agent[03]) (REQUEST ANY (VOTE Agent[03])))'\n",
    "print(tr.split_blancket(s))"
   ]
  },
  {
   "cell_type": "code",
   "execution_count": 5,
   "metadata": {
    "scrolled": true
   },
   "outputs": [
    {
     "name": "stdout",
     "output_type": "stream",
     "text": [
      "Agent[00] BECAUSE agent[00] () at Day[00] on Turn[00]\n",
      "    Agent[00] XOR agent[00] () at Day[00] on Turn[00]\n",
      "        Agent[00] ESTIMATE agent[03] (WEREWOLF) at Day[00] on Turn[00]\n",
      "        Agent[00] ESTIMATE agent[03] (POSSESSED) at Day[00] on Turn[00]\n",
      "    Agent[00] AND agent[00] () at Day[00] on Turn[00]\n",
      "        Agent[00] VOTE agent[03] () at Day[00] on Turn[00]\n",
      "        Agent[00] REQUEST agent[-1] () at Day[00] on Turn[00]\n",
      "            Agent[00] VOTE agent[03] () at Day[00] on Turn[00]\n",
      "\n",
      "0\n",
      "True\n",
      "['BECAUSE', 'XOR', 'ESTIMATE', 'ESTIMATE', 'AND', 'VOTE', 'REQUEST', 'VOTE']\n",
      "\n",
      "Agent[00] VOTE agent[03] () at Day[00] on Turn[00]\n",
      "\n",
      "Agent[00] VOTE agent[03] () at Day[00] on Turn[00]\n",
      "\n"
     ]
    }
   ],
   "source": [
    "import talk_reader as tr\n",
    "\n",
    "import importlib\n",
    "importlib.reload(tr)\n",
    "\n",
    "text = 'BECAUSE (XOR (ESTIMATE Agent[03] WEREWOLF) (ESTIMATE Agent[03] POSSESSED)) (AND (VOTE Agent[03]) (REQUEST ANY (VOTE Agent[03])))'\n",
    "#text = 'DISAGREE 8'\n",
    "#text = 'Agent[05] AGREE TALK day1 ID:31'\n",
    "#text = 'DAY 1 (DIVINED Agent[02] WEREWOLF)'\n",
    "\n",
    "# Sectionを作成\n",
    "sec = tr.make_section_from_text(0,0,0,text)\n",
    "\n",
    "# Section内容の表示\n",
    "print(sec.get_sec_str())\n",
    "print(sec.tar_id)\n",
    "\n",
    "#child = sec.sec_list[0].sec_list[1]\n",
    "#print(child.get_arg_num())\n",
    "\n",
    "# SectionがVOTE文を含んでいるかどうか\n",
    "print(sec.contains('VOTE'))\n",
    "\n",
    "# Sectionが含む全ての演算子および動詞\n",
    "print(sec.get_all_op())\n",
    "\n",
    "print()\n",
    "secs = sec.get_sec_all('VOTE')\n",
    "for sec in secs:\n",
    "    print(sec.get_sec_str())"
   ]
  },
  {
   "cell_type": "code",
   "execution_count": null,
   "metadata": {},
   "outputs": [],
   "source": []
  }
 ],
 "metadata": {
  "kernelspec": {
   "display_name": "Python 3",
   "language": "python",
   "name": "python3"
  },
  "language_info": {
   "codemirror_mode": {
    "name": "ipython",
    "version": 3
   },
   "file_extension": ".py",
   "mimetype": "text/x-python",
   "name": "python",
   "nbconvert_exporter": "python",
   "pygments_lexer": "ipython3",
   "version": "3.6.0"
  }
 },
 "nbformat": 4,
 "nbformat_minor": 2
}
