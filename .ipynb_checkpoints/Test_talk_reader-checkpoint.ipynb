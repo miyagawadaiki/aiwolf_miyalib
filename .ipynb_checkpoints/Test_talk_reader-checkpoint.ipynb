{
 "cells": [
  {
   "cell_type": "markdown",
   "metadata": {},
   "source": [
    "## talk_reader.pyのテスト"
   ]
  },
  {
   "cell_type": "code",
   "execution_count": 73,
   "metadata": {},
   "outputs": [
    {
     "data": {
      "text/plain": [
       "<module 'talk_reader' from '/Users/daiki/aiwolf/miyalib/talk_reader.py'>"
      ]
     },
     "execution_count": 73,
     "metadata": {},
     "output_type": "execute_result"
    }
   ],
   "source": [
    "import talk_reader as tr\n",
    "\n",
    "import importlib\n",
    "importlib.reload(tr)"
   ]
  },
  {
   "cell_type": "markdown",
   "metadata": {},
   "source": [
    "### make_section_from_textを使う（Sectionオブジェクトの生成）"
   ]
  },
  {
   "cell_type": "code",
   "execution_count": 74,
   "metadata": {
    "scrolled": true
   },
   "outputs": [
    {
     "name": "stdout",
     "output_type": "stream",
     "text": [
      "Sectionの文字列化 : Agent[01] VOTE agent[02] () at Day[02] on Turn[01]\n",
      "\n",
      "主語 : Agent[01]\n",
      "目的語 : Agent[02]\n",
      "演算子or動詞 : VOTE\n",
      "発言した日 : 2\n",
      "発言したターン数 : 1\n",
      "動作が発生した日 : 2\n"
     ]
    }
   ],
   "source": [
    "# 文字列の用意\n",
    "text = 'Agent[01] VOTE Agent[02]'\n",
    "\n",
    "# Sectionを作成\n",
    "sec = tr.make_section_from_text(2,1,1,text)\n",
    "\n",
    "# Section内容の表示\n",
    "print(\"Sectionの文字列化 :\", sec.get_sec_str())\n",
    "\n",
    "print()\n",
    "\n",
    "# Sectionからそれぞれパラメータを取り出す\n",
    "print(\"主語 : Agent[{:02d}]\".format(sec.sub_id)) # 主語（やった人）のIDを取得\n",
    "print(\"目的語 : Agent[{:02d}]\".format(sec.tar_id)) # 目的語（された人）のIDを取得\n",
    "print(\"演算子or動詞 : {0}\".format(sec.op)) # 演算子（or 動詞）を取得\n",
    "print(\"発言した日 : {0}\\n発言したターン数 : {1}\\n動作が発生した日 : {2}\".format(sec.pub_day, sec.pub_turn, sec.occ_day))"
   ]
  },
  {
   "cell_type": "markdown",
   "metadata": {},
   "source": [
    "### 応用的な使い方"
   ]
  },
  {
   "cell_type": "code",
   "execution_count": null,
   "metadata": {},
   "outputs": [],
   "source": [
    "text = 'BECAUSE (XOR (ESTIMATE Agent[03] WEREWOLF) (ESTIMATE Agent[03] POSSESSED)) (AND (VOTE Agent[03]) (REQUEST ANY (ANY VOTE Agent[03])))'\n",
    "#text = 'Agent[05] AGREE TALK day1 ID:31'\n",
    "#text = 'DAY 1 (DIVINED Agent[02] WEREWOLF)'\n",
    "\n",
    "# Sectionを作成\n",
    "sec = tr.make_section_from_text(2,1,1,text)\n",
    "\n",
    "child = sec.sec_list[0].sec_list[1]\n",
    "print(child.get_arg_num())\n",
    "\n",
    "# SectionがVOTE文を含んでいるかどうか\n",
    "print(sec.contains('VOTE'))\n",
    "\n",
    "# Sectionが含む全ての演算子および動詞\n",
    "print(sec.get_all_op())\n",
    "\n",
    "print()\n",
    "secs = sec.get_sec_all('VOTE')\n",
    "for s in secs:\n",
    "    print(s.get_parent().op)\n",
    "    if not(s.get_parent().op == 'REQUEST'):\n",
    "        print(s.get_sec_str())\n",
    "        \n",
    "print(secs[1].get_parent(op='REQUEST').get_sec_str())\n",
    "\n",
    "vote = [s for s in sec.get_sec_all(op='VOTE') if s.get_parent('REQUEST') == None]\n",
    "print(vote[0].get_sec_str())\n",
    "\n",
    "\n",
    "\n",
    "secs = [s for s in sec.get_sec_all('ESTIMATE') if s.get_arg_num('BECAUSE') == 0]\n",
    "print(secs)"
   ]
  },
  {
   "cell_type": "code",
   "execution_count": 58,
   "metadata": {
    "scrolled": true
   },
   "outputs": [
    {
     "name": "stdout",
     "output_type": "stream",
     "text": [
      "Agent[00] BECAUSE agent[00] () at Day[00] on Turn[00]\n",
      "    Agent[02] VOTED agent[01] () at Day[00] on Turn[00]\n",
      "    Agent[00] AND agent[00] () at Day[00] on Turn[00]\n",
      "        Agent[01] VOTE agent[02] () at Day[00] on Turn[00]\n",
      "        Agent[00] REQUEST agent[-1] () at Day[00] on Turn[00]\n",
      "            Agent[-1] VOTE agent[02] () at Day[00] on Turn[00]\n",
      "Agent[01] VOTE agent[02] () at Day[00] on Turn[00]\n",
      "1\n",
      "2\n",
      "Agent[-1] VOTE agent[02] () at Day[00] on Turn[00]\n",
      "-1\n",
      "2\n"
     ]
    }
   ],
   "source": [
    "text = 'BECAUSE (Agent[02] VOTED Agent[01]) (AND (Agent[01] VOTE Agent[02]) (REQUEST ANY (VOTE Agent[02])))'\n",
    "tmp = tr.make_section_from_text(2,1,1,text)\n",
    "print(tmp.get_sec_str())\n",
    "\n",
    "secs = tmp.get_sec_all('VOTE')\n",
    "for sec in secs:\n",
    "    print(sec.get_sec_str())\n",
    "    print(sec.sub_id)\n",
    "    print(sec.tar_id)"
   ]
  },
  {
   "cell_type": "code",
   "execution_count": 67,
   "metadata": {},
   "outputs": [
    {
     "name": "stdout",
     "output_type": "stream",
     "text": [
      "Agent[02] VOTE agent[03] () at Day[01] on Turn[01]\n"
     ]
    }
   ],
   "source": [
    "import talk_reader as tr\n",
    "\n",
    "import importlib\n",
    "importlib.reload(tr)\n",
    "\n",
    "sec = tr.make_section_from_text(1,1,2,'BECAUSE (Agent[01] DIVINED Agent[03] WEREWOLF) (VOTE Agent[03])')\n",
    "sections = sec.get_sec_all(op='VOTE')\n",
    "for s in sections:\n",
    "    print(s.get_sec_str())"
   ]
  }
 ],
 "metadata": {
  "kernelspec": {
   "display_name": "Python 3",
   "language": "python",
   "name": "python3"
  },
  "language_info": {
   "codemirror_mode": {
    "name": "ipython",
    "version": 3
   },
   "file_extension": ".py",
   "mimetype": "text/x-python",
   "name": "python",
   "nbconvert_exporter": "python",
   "pygments_lexer": "ipython3",
   "version": "3.6.0"
  }
 },
 "nbformat": 4,
 "nbformat_minor": 2
}
