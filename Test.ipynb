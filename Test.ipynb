{
 "cells": [
  {
   "cell_type": "code",
   "execution_count": 53,
   "metadata": {
    "scrolled": true
   },
   "outputs": [
    {
     "name": "stdout",
     "output_type": "stream",
     "text": [
      "['XOR (ESTIMATE Agent[03] WEREWOLF) (ESTIMATE Agent[03] POSSESSED)', 'AND (VOTE Agent[03]) (REQUEST ANY (VOTE Agent[03]))']\n"
     ]
    }
   ],
   "source": [
    "import talk_reader as tr\n",
    "\n",
    "import importlib\n",
    "importlib.reload(tr)\n",
    "\n",
    "# カッコが外せるかどうか実験\n",
    "s = 'BECAUSE (XOR (ESTIMATE Agent[03] WEREWOLF) (ESTIMATE Agent[03] POSSESSED)) (AND (VOTE Agent[03]) (REQUEST ANY (VOTE Agent[03])))'\n",
    "print(tr.split_blancket(s))"
   ]
  },
  {
   "cell_type": "code",
   "execution_count": 68,
   "metadata": {
    "scrolled": true
   },
   "outputs": [
    {
     "name": "stdout",
     "output_type": "stream",
     "text": [
      "Agent[00] BECAUSE agent[00] () at Day[02] on Turn[01] (parent.op=None, index=-1)\n",
      "    Agent[00] XOR agent[00] () at Day[02] on Turn[01] (parent.op=BECAUSE, index=0)\n",
      "        Agent[01] ESTIMATE agent[03] (WEREWOLF) at Day[02] on Turn[01] (parent.op=XOR, index=0)\n",
      "        Agent[01] ESTIMATE agent[03] (POSSESSED) at Day[02] on Turn[01] (parent.op=XOR, index=1)\n",
      "    Agent[00] AND agent[00] () at Day[02] on Turn[01] (parent.op=, index=1)\n",
      "        Agent[01] VOTE agent[03] () at Day[02] on Turn[01] (parent.op=AND, index=0)\n",
      "        Agent[01] REQUEST agent[-1] () at Day[02] on Turn[01] (parent.op=AND, index=1)\n",
      "            Agent[-1] VOTE agent[03] () at Day[02] on Turn[01] (parent.op=REQUEST, index=0)\n",
      "0\n",
      "1\n",
      "True\n",
      "['BECAUSE', 'XOR', 'ESTIMATE', 'ESTIMATE', 'AND', 'VOTE', 'REQUEST', 'VOTE']\n",
      "\n",
      "AND\n",
      "Agent[01] VOTE agent[03] () at Day[02] on Turn[01]\n",
      "REQUEST\n",
      "Agent[01] REQUEST agent[-1] () at Day[02] on Turn[01]\n",
      "    Agent[-1] VOTE agent[03] () at Day[02] on Turn[01]\n",
      "Agent[01] VOTE agent[03] () at Day[02] on Turn[01]\n",
      "[<talk_reader.Section object at 0x112081f28>, <talk_reader.Section object at 0x112081e48>]\n"
     ]
    }
   ],
   "source": [
    "import talk_reader as tr\n",
    "\n",
    "import importlib\n",
    "importlib.reload(tr)\n",
    "\n",
    "text = '  BECAUSE (XOR (ESTIMATE Agent[03] WEREWOLF) (ESTIMATE Agent[03] POSSESSED)) (AND (VOTE Agent[03]) (REQUEST ANY (ANY VOTE Agent[03])))'\n",
    "#text = 'DISAGREE 8'\n",
    "#text = 'Agent[05] AGREE TALK day1 ID:31'\n",
    "#text = 'DAY 1 (DIVINED Agent[02] WEREWOLF)'\n",
    "\n",
    "# Sectionを作成\n",
    "sec = tr.make_section_from_text(2,1,1,text)\n",
    "\n",
    "# Section内容の表示\n",
    "print(sec.get_sec_str_p())\n",
    "print(sec.tar_id)\n",
    "\n",
    "child = sec.sec_list[0].sec_list[1]\n",
    "print(child.get_arg_num())\n",
    "\n",
    "# SectionがVOTE文を含んでいるかどうか\n",
    "print(sec.contains('VOTE'))\n",
    "\n",
    "# Sectionが含む全ての演算子および動詞\n",
    "print(sec.get_all_op())\n",
    "\n",
    "print()\n",
    "secs = sec.get_sec_all('VOTE')\n",
    "for s in secs:\n",
    "    print(s.get_parent().op)\n",
    "    if not(s.get_parent().op == 'REQUEST'):\n",
    "        print(s.get_sec_str())\n",
    "        \n",
    "print(secs[1].get_parent(op='REQUEST').get_sec_str())\n",
    "\n",
    "vote = [s for s in sec.get_sec_all(op='VOTE') if s.get_parent('REQUEST') == None]\n",
    "print(vote[0].get_sec_str())\n",
    "\n",
    "\n",
    "\n",
    "secs = [s for s in sec.get_sec_all('ESTIMATE') if s.get_arg_num('BECAUSE') == 0]\n",
    "print(secs)"
   ]
  },
  {
   "cell_type": "code",
   "execution_count": 58,
   "metadata": {
    "scrolled": true
   },
   "outputs": [
    {
     "name": "stdout",
     "output_type": "stream",
     "text": [
      "Agent[00] BECAUSE agent[00] () at Day[00] on Turn[00]\n",
      "    Agent[02] VOTED agent[01] () at Day[00] on Turn[00]\n",
      "    Agent[00] AND agent[00] () at Day[00] on Turn[00]\n",
      "        Agent[01] VOTE agent[02] () at Day[00] on Turn[00]\n",
      "        Agent[00] REQUEST agent[-1] () at Day[00] on Turn[00]\n",
      "            Agent[-1] VOTE agent[02] () at Day[00] on Turn[00]\n",
      "Agent[01] VOTE agent[02] () at Day[00] on Turn[00]\n",
      "1\n",
      "2\n",
      "Agent[-1] VOTE agent[02] () at Day[00] on Turn[00]\n",
      "-1\n",
      "2\n"
     ]
    }
   ],
   "source": [
    "text = 'BECAUSE (Agent[02] VOTED Agent[01]) (AND (Agent[01] VOTE Agent[02]) (REQUEST ANY (VOTE Agent[02])))'\n",
    "tmp = tr.make_section_from_text(2,1,1,text)\n",
    "print(tmp.get_sec_str())\n",
    "\n",
    "secs = tmp.get_sec_all('VOTE')\n",
    "for sec in secs:\n",
    "    print(sec.get_sec_str())\n",
    "    print(sec.sub_id)\n",
    "    print(sec.tar_id)"
   ]
  },
  {
   "cell_type": "code",
   "execution_count": 67,
   "metadata": {},
   "outputs": [
    {
     "name": "stdout",
     "output_type": "stream",
     "text": [
      "Agent[02] VOTE agent[03] () at Day[01] on Turn[01]\n"
     ]
    }
   ],
   "source": [
    "import talk_reader as tr\n",
    "\n",
    "import importlib\n",
    "importlib.reload(tr)\n",
    "\n",
    "sec = tr.make_section_from_text(1,1,2,'BECAUSE (Agent[01] DIVINED Agent[03] WEREWOLF) (VOTE Agent[03])')\n",
    "sections = sec.get_sec_all(op='VOTE')\n",
    "for s in sections:\n",
    "    print(s.get_sec_str())"
   ]
  }
 ],
 "metadata": {
  "kernelspec": {
   "display_name": "Python 3",
   "language": "python",
   "name": "python3"
  },
  "language_info": {
   "codemirror_mode": {
    "name": "ipython",
    "version": 3
   },
   "file_extension": ".py",
   "mimetype": "text/x-python",
   "name": "python",
   "nbconvert_exporter": "python",
   "pygments_lexer": "ipython3",
   "version": "3.6.0"
  }
 },
 "nbformat": 4,
 "nbformat_minor": 2
}
